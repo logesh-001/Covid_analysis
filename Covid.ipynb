{
 "cells": [
  {
   "cell_type": "code",
   "execution_count": 1,
   "id": "4404bf0e-ad26-425d-b225-2a674daa4fd6",
   "metadata": {},
   "outputs": [],
   "source": [
    "import pandas as pd\n",
    "import seaborn as sns\n",
    "import matplotlib as plt"
   ]
  },
  {
   "cell_type": "code",
   "execution_count": 2,
   "id": "5be2960e-f6f7-4521-8ff0-f3408a9e65bf",
   "metadata": {},
   "outputs": [],
   "source": [
    "data=pd.read_csv(\"dataset/Latest Covid-19 India Status.csv\")"
   ]
  },
  {
   "cell_type": "code",
   "execution_count": 3,
   "id": "f8659252-c8de-4b06-aa7a-39d4dd79b0c9",
   "metadata": {},
   "outputs": [
    {
     "data": {
      "text/html": [
       "<div>\n",
       "<style scoped>\n",
       "    .dataframe tbody tr th:only-of-type {\n",
       "        vertical-align: middle;\n",
       "    }\n",
       "\n",
       "    .dataframe tbody tr th {\n",
       "        vertical-align: top;\n",
       "    }\n",
       "\n",
       "    .dataframe thead th {\n",
       "        text-align: right;\n",
       "    }\n",
       "</style>\n",
       "<table border=\"1\" class=\"dataframe\">\n",
       "  <thead>\n",
       "    <tr style=\"text-align: right;\">\n",
       "      <th></th>\n",
       "      <th>State/UTs</th>\n",
       "      <th>Total Cases</th>\n",
       "      <th>Active</th>\n",
       "      <th>Discharged</th>\n",
       "      <th>Deaths</th>\n",
       "      <th>Active Ratio</th>\n",
       "      <th>Discharge Ratio</th>\n",
       "      <th>Death Ratio</th>\n",
       "      <th>Population</th>\n",
       "    </tr>\n",
       "  </thead>\n",
       "  <tbody>\n",
       "    <tr>\n",
       "      <th>0</th>\n",
       "      <td>Andaman and Nicobar</td>\n",
       "      <td>10766</td>\n",
       "      <td>0</td>\n",
       "      <td>10637</td>\n",
       "      <td>129</td>\n",
       "      <td>0.0</td>\n",
       "      <td>98.80</td>\n",
       "      <td>1.20</td>\n",
       "      <td>100896618</td>\n",
       "    </tr>\n",
       "    <tr>\n",
       "      <th>1</th>\n",
       "      <td>Andhra Pradesh</td>\n",
       "      <td>2340676</td>\n",
       "      <td>0</td>\n",
       "      <td>2325943</td>\n",
       "      <td>14733</td>\n",
       "      <td>0.0</td>\n",
       "      <td>99.37</td>\n",
       "      <td>0.63</td>\n",
       "      <td>128500364</td>\n",
       "    </tr>\n",
       "    <tr>\n",
       "      <th>2</th>\n",
       "      <td>Arunachal Pradesh</td>\n",
       "      <td>67049</td>\n",
       "      <td>0</td>\n",
       "      <td>66753</td>\n",
       "      <td>296</td>\n",
       "      <td>0.0</td>\n",
       "      <td>99.56</td>\n",
       "      <td>0.44</td>\n",
       "      <td>658019</td>\n",
       "    </tr>\n",
       "    <tr>\n",
       "      <th>3</th>\n",
       "      <td>Assam</td>\n",
       "      <td>746159</td>\n",
       "      <td>5</td>\n",
       "      <td>738119</td>\n",
       "      <td>8035</td>\n",
       "      <td>0.0</td>\n",
       "      <td>98.92</td>\n",
       "      <td>1.08</td>\n",
       "      <td>290492</td>\n",
       "    </tr>\n",
       "    <tr>\n",
       "      <th>4</th>\n",
       "      <td>Bihar</td>\n",
       "      <td>855267</td>\n",
       "      <td>1</td>\n",
       "      <td>842952</td>\n",
       "      <td>12314</td>\n",
       "      <td>0.0</td>\n",
       "      <td>98.56</td>\n",
       "      <td>1.44</td>\n",
       "      <td>40100376</td>\n",
       "    </tr>\n",
       "  </tbody>\n",
       "</table>\n",
       "</div>"
      ],
      "text/plain": [
       "             State/UTs  Total Cases  Active  Discharged  Deaths  Active Ratio  \\\n",
       "0  Andaman and Nicobar        10766       0       10637     129           0.0   \n",
       "1       Andhra Pradesh      2340676       0     2325943   14733           0.0   \n",
       "2    Arunachal Pradesh        67049       0       66753     296           0.0   \n",
       "3                Assam       746159       5      738119    8035           0.0   \n",
       "4                Bihar       855267       1      842952   12314           0.0   \n",
       "\n",
       "   Discharge Ratio  Death Ratio  Population  \n",
       "0            98.80         1.20   100896618  \n",
       "1            99.37         0.63   128500364  \n",
       "2            99.56         0.44      658019  \n",
       "3            98.92         1.08      290492  \n",
       "4            98.56         1.44    40100376  "
      ]
     },
     "execution_count": 3,
     "metadata": {},
     "output_type": "execute_result"
    }
   ],
   "source": [
    "data.head()"
   ]
  },
  {
   "cell_type": "code",
   "execution_count": 4,
   "id": "4a1fcf54-6a9d-4299-9b71-ccd14e950d16",
   "metadata": {},
   "outputs": [
    {
     "data": {
      "text/html": [
       "<div>\n",
       "<style scoped>\n",
       "    .dataframe tbody tr th:only-of-type {\n",
       "        vertical-align: middle;\n",
       "    }\n",
       "\n",
       "    .dataframe tbody tr th {\n",
       "        vertical-align: top;\n",
       "    }\n",
       "\n",
       "    .dataframe thead th {\n",
       "        text-align: right;\n",
       "    }\n",
       "</style>\n",
       "<table border=\"1\" class=\"dataframe\">\n",
       "  <thead>\n",
       "    <tr style=\"text-align: right;\">\n",
       "      <th></th>\n",
       "      <th>Total Cases</th>\n",
       "      <th>Active</th>\n",
       "      <th>Discharged</th>\n",
       "      <th>Deaths</th>\n",
       "      <th>Active Ratio</th>\n",
       "      <th>Discharge Ratio</th>\n",
       "      <th>Death Ratio</th>\n",
       "      <th>Population</th>\n",
       "    </tr>\n",
       "  </thead>\n",
       "  <tbody>\n",
       "    <tr>\n",
       "      <th>count</th>\n",
       "      <td>3.600000e+01</td>\n",
       "      <td>36.000000</td>\n",
       "      <td>3.600000e+01</td>\n",
       "      <td>36.000000</td>\n",
       "      <td>36.000000</td>\n",
       "      <td>36.000000</td>\n",
       "      <td>36.000000</td>\n",
       "      <td>3.600000e+01</td>\n",
       "    </tr>\n",
       "    <tr>\n",
       "      <th>mean</th>\n",
       "      <td>1.249975e+06</td>\n",
       "      <td>50.333333</td>\n",
       "      <td>1.235146e+06</td>\n",
       "      <td>14778.527778</td>\n",
       "      <td>0.005000</td>\n",
       "      <td>98.897222</td>\n",
       "      <td>1.097778</td>\n",
       "      <td>3.971861e+07</td>\n",
       "    </tr>\n",
       "    <tr>\n",
       "      <th>std</th>\n",
       "      <td>1.846038e+06</td>\n",
       "      <td>207.118048</td>\n",
       "      <td>1.820328e+06</td>\n",
       "      <td>27221.140636</td>\n",
       "      <td>0.026673</td>\n",
       "      <td>0.506854</td>\n",
       "      <td>0.494791</td>\n",
       "      <td>5.050913e+07</td>\n",
       "    </tr>\n",
       "    <tr>\n",
       "      <th>min</th>\n",
       "      <td>1.076600e+04</td>\n",
       "      <td>0.000000</td>\n",
       "      <td>1.063700e+04</td>\n",
       "      <td>4.000000</td>\n",
       "      <td>0.000000</td>\n",
       "      <td>97.410000</td>\n",
       "      <td>0.030000</td>\n",
       "      <td>6.600100e+04</td>\n",
       "    </tr>\n",
       "    <tr>\n",
       "      <th>25%</th>\n",
       "      <td>1.065430e+05</td>\n",
       "      <td>0.000000</td>\n",
       "      <td>1.055395e+05</td>\n",
       "      <td>1124.250000</td>\n",
       "      <td>0.000000</td>\n",
       "      <td>98.690000</td>\n",
       "      <td>0.840000</td>\n",
       "      <td>1.695473e+06</td>\n",
       "    </tr>\n",
       "    <tr>\n",
       "      <th>50%</th>\n",
       "      <td>6.140910e+05</td>\n",
       "      <td>1.500000</td>\n",
       "      <td>6.076750e+05</td>\n",
       "      <td>6551.000000</td>\n",
       "      <td>0.000000</td>\n",
       "      <td>98.935000</td>\n",
       "      <td>1.065000</td>\n",
       "      <td>2.410088e+07</td>\n",
       "    </tr>\n",
       "    <tr>\n",
       "      <th>75%</th>\n",
       "      <td>1.331951e+06</td>\n",
       "      <td>9.000000</td>\n",
       "      <td>1.322329e+06</td>\n",
       "      <td>14325.750000</td>\n",
       "      <td>0.000000</td>\n",
       "      <td>99.160000</td>\n",
       "      <td>1.310000</td>\n",
       "      <td>6.979986e+07</td>\n",
       "    </tr>\n",
       "    <tr>\n",
       "      <th>max</th>\n",
       "      <td>8.171048e+06</td>\n",
       "      <td>1233.000000</td>\n",
       "      <td>8.022276e+06</td>\n",
       "      <td>148558.000000</td>\n",
       "      <td>0.160000</td>\n",
       "      <td>99.970000</td>\n",
       "      <td>2.440000</td>\n",
       "      <td>2.315026e+08</td>\n",
       "    </tr>\n",
       "  </tbody>\n",
       "</table>\n",
       "</div>"
      ],
      "text/plain": [
       "        Total Cases       Active    Discharged         Deaths  Active Ratio  \\\n",
       "count  3.600000e+01    36.000000  3.600000e+01      36.000000     36.000000   \n",
       "mean   1.249975e+06    50.333333  1.235146e+06   14778.527778      0.005000   \n",
       "std    1.846038e+06   207.118048  1.820328e+06   27221.140636      0.026673   \n",
       "min    1.076600e+04     0.000000  1.063700e+04       4.000000      0.000000   \n",
       "25%    1.065430e+05     0.000000  1.055395e+05    1124.250000      0.000000   \n",
       "50%    6.140910e+05     1.500000  6.076750e+05    6551.000000      0.000000   \n",
       "75%    1.331951e+06     9.000000  1.322329e+06   14325.750000      0.000000   \n",
       "max    8.171048e+06  1233.000000  8.022276e+06  148558.000000      0.160000   \n",
       "\n",
       "       Discharge Ratio  Death Ratio    Population  \n",
       "count        36.000000    36.000000  3.600000e+01  \n",
       "mean         98.897222     1.097778  3.971861e+07  \n",
       "std           0.506854     0.494791  5.050913e+07  \n",
       "min          97.410000     0.030000  6.600100e+04  \n",
       "25%          98.690000     0.840000  1.695473e+06  \n",
       "50%          98.935000     1.065000  2.410088e+07  \n",
       "75%          99.160000     1.310000  6.979986e+07  \n",
       "max          99.970000     2.440000  2.315026e+08  "
      ]
     },
     "execution_count": 4,
     "metadata": {},
     "output_type": "execute_result"
    }
   ],
   "source": [
    "data.describe()"
   ]
  },
  {
   "cell_type": "code",
   "execution_count": 5,
   "id": "1df734e5-043c-4f3c-a99a-14d4669408dd",
   "metadata": {},
   "outputs": [
    {
     "data": {
      "text/plain": [
       "State/UTs          0\n",
       "Total Cases        0\n",
       "Active             0\n",
       "Discharged         0\n",
       "Deaths             0\n",
       "Active Ratio       0\n",
       "Discharge Ratio    0\n",
       "Death Ratio        0\n",
       "Population         0\n",
       "dtype: int64"
      ]
     },
     "execution_count": 5,
     "metadata": {},
     "output_type": "execute_result"
    }
   ],
   "source": [
    "data.isnull().sum()"
   ]
  },
  {
   "cell_type": "code",
   "execution_count": 6,
   "id": "db77c53f-1ca5-4b6a-b777-a40f52ea1a95",
   "metadata": {},
   "outputs": [
    {
     "data": {
      "text/plain": [
       "State/UTs          West Bengal\n",
       "Total Cases            8171048\n",
       "Active                    1233\n",
       "Discharged             8022276\n",
       "Deaths                  148558\n",
       "Active Ratio              0.16\n",
       "Discharge Ratio          99.97\n",
       "Death Ratio               2.44\n",
       "Population           231502578\n",
       "dtype: object"
      ]
     },
     "execution_count": 6,
     "metadata": {},
     "output_type": "execute_result"
    }
   ],
   "source": [
    "data.max()\n"
   ]
  },
  {
   "cell_type": "code",
   "execution_count": 7,
   "id": "b09509a8-8f9c-4acf-83e3-3a6838e7026c",
   "metadata": {},
   "outputs": [
    {
     "data": {
      "text/plain": [
       "State/UTs          Andaman and Nicobar\n",
       "Total Cases                      10766\n",
       "Active                               0\n",
       "Discharged                       10637\n",
       "Deaths                               4\n",
       "Active Ratio                       0.0\n",
       "Discharge Ratio                  97.41\n",
       "Death Ratio                       0.03\n",
       "Population                       66001\n",
       "dtype: object"
      ]
     },
     "execution_count": 7,
     "metadata": {},
     "output_type": "execute_result"
    }
   ],
   "source": [
    "data.min()"
   ]
  },
  {
   "cell_type": "code",
   "execution_count": 8,
   "id": "d3c99c04-1eae-4029-a807-de156734a1e3",
   "metadata": {},
   "outputs": [
    {
     "data": {
      "text/plain": [
       "Index(['State/UTs', 'Total Cases', 'Active', 'Discharged', 'Deaths',\n",
       "       'Active Ratio', 'Discharge Ratio', 'Death Ratio', 'Population'],\n",
       "      dtype='object')"
      ]
     },
     "execution_count": 8,
     "metadata": {},
     "output_type": "execute_result"
    }
   ],
   "source": [
    "data.columns"
   ]
  },
  {
   "cell_type": "code",
   "execution_count": 9,
   "id": "83dd3dd3-0a85-4393-b23e-1df9047fb78d",
   "metadata": {},
   "outputs": [
    {
     "data": {
      "text/plain": [
       "324"
      ]
     },
     "execution_count": 9,
     "metadata": {},
     "output_type": "execute_result"
    }
   ],
   "source": [
    "data.size"
   ]
  },
  {
   "cell_type": "code",
   "execution_count": null,
   "id": "1651c6f8-e6be-4dc0-a493-5c7b5936b2b5",
   "metadata": {},
   "outputs": [],
   "source": [
    "import matplotlib.pyplot as plt\n",
    "\n",
    "# Assuming 'State/UTs' and 'Total Cases' are columns in your dataset\n",
    "plt.figure(figsize=(10, 6))\n",
    "plt.bar(data['State/UTs'], data['Total Cases'])\n",
    "plt.xticks(rotation=90)  # Rotate x-axis labels for better readability\n",
    "plt.xlabel('State/UTs')\n",
    "plt.ylabel('Total Cases')\n",
    "plt.title('Total COVID Cases by State/UTs')\n",
    "plt.show()\n"
   ]
  }
 ],
 "metadata": {
  "kernelspec": {
   "display_name": "Python 3 (ipykernel)",
   "language": "python",
   "name": "python3"
  },
  "language_info": {
   "codemirror_mode": {
    "name": "ipython",
    "version": 3
   },
   "file_extension": ".py",
   "mimetype": "text/x-python",
   "name": "python",
   "nbconvert_exporter": "python",
   "pygments_lexer": "ipython3",
   "version": "3.12.4"
  }
 },
 "nbformat": 4,
 "nbformat_minor": 5
}
