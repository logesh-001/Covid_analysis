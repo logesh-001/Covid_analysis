pip install geopandas


import pandas as pd
import seaborn as sns
import matplotlib.pyplot as plt
import geopandas as gpd
import numpy as np


import os    
os.environ['KMP_DUPLICATE_LIB_OK'] = 'True'


data=pd.read_csv("Latest Covid-19 India Status.csv")


data.head()


data.describe()


data.isnull().sum()


data.max()



data.min()


data.columns


data.size


import matplotlib.pyplot as plt

# Assuming 'State/UTs' and 'Total Cases' are columns in your dataset
plt.figure(figsize=(10, 6))
plt.bar(data['State/UTs'], data['Total Cases'])
plt.xticks(rotation=90)  # Rotate x-axis labels for better readability
plt.xlabel('State/UTs')
plt.ylabel('Total Cases')
plt.title('Total COVID Cases by State/UTs')
plt.show()




india_map = gpd.read_file('map/gadm41_IND_1.shp')
data['State/UTs'] = data['State/UTs'].str.strip()
india_map['NAME_1'] = india_map['NAME_1'].str.strip()

merged_data = india_map.set_index('NAME_1').join(data.set_index('State/UTs'))

merged_data = merged_data.to_crs(epsg=3857)

fig, ax = plt.subplots(1, 1, figsize=(12, 10))
merged_data.plot(column='Total Cases', cmap='RdYlGn_r', linewidth=0.8, ax=ax, edgecolor='0.8', legend=True)

# Add state names as labels (centroids in the projected CRS)
for x, y, label in zip(merged_data.geometry.centroid.x, merged_data.geometry.centroid.y, merged_data.index):
    ax.text(x, y, label, fontsize=6, ha='center', color='black')

# Add plot title
plt.title('COVID-19 Total Cases by Indian State/UTs', fontsize=16)

plt.show()


data_sorted = data.sort_values(by='Death Ratio', ascending=False)

plt.figure(figsize=(16, 10))

sns.barplot(x='Death Ratio', y='State/UTs', data=data_sorted, hue='Death Ratio', palette='RdYlGn_r', dodge=False, legend=False)

plt.title('Death Ratio by Indian State/UTs', fontsize=16)
plt.xlabel('Death Ratio (%)', fontsize=12)
plt.ylabel('State/UTs', fontsize=12)

plt.tight_layout()
plt.show()


data['State/UTs'] = data['State/UTs'].str.strip()
india_map['NAME_1'] = india_map['NAME_1'].str.strip()

merged_data = india_map.set_index('NAME_1').join(data.set_index('State/UTs'))

merged_data = merged_data.to_crs(epsg=3857)

fig, ax = plt.subplots(1, 1, figsize=(12, 10))
merged_data.plot(column='Death Ratio', cmap='RdYlGn_r', linewidth=0.8, ax=ax, edgecolor='0.8', legend=True)

for x, y, label in zip(merged_data.geometry.centroid.x, merged_data.geometry.centroid.y, merged_data.index):
    ax.text(x, y, label, fontsize=8, ha='center', color='black')

plt.title('COVID-19 Death Ratio by Indian State/UTs', fontsize=16)

plt.show()


import pandas as pd
from sklearn.preprocessing import StandardScaler
from sklearn.cluster import KMeans
import matplotlib.pyplot as plt
import geopandas as gpd
  # Replace with actual shapefile path

# Step 2: Select relevant columns for clustering
features = data[['Death Ratio', 'Total Cases', 'Discharged', 'Population']]

# Step 3: Standardize the features (important for clustering algorithms)
scaler = StandardScaler()
scaled_features = scaler.fit_transform(features)

# Step 4: Apply KMeans clustering
kmeans = KMeans(n_clusters=5, random_state=42)  # 3 clusters as an example
data['Cluster'] = kmeans.fit_predict(scaled_features)

# Step 5: Merge the clustering result with the geographical data
merged_data = india_map.set_index('NAME_1').join(data.set_index('State/UTs'))

# Step 6: Plot the clusters on a map
fig, ax = plt.subplots(1, 1, figsize=(12, 10))
merged_data.plot(column='Cluster', cmap='coolwarm_r', linewidth=0.8, ax=ax, edgecolor='0.8', legend=True)

plt.title('Clustering of States Based on COVID-19 Data')
plt.show()




state_names = data['State/UTs']
population = data['Population']
population = population / (10**1.01) 
total_cases = data['Total Cases']
deaths = data['Deaths']

bar_width = 0.5
index = np.arange(len(state_names))

fig, ax = plt.subplots(figsize=(14, 8))

bar1 = ax.bar(index, population, bar_width, label='Population', color='skyblue')

bar2 = ax.bar(index + bar_width, total_cases, bar_width, label='Total Cases', color='orange')

bar3 = ax.bar(index + 2 * bar_width, deaths, bar_width, label='Deaths', color='red')

ax.set_xlabel('States/UTs')
ax.set_ylabel('Counts')
ax.set_title('Population, Total Cases, and Deaths by State/UTs')
ax.set_xticks(index + bar_width)
ax.set_xticklabels(state_names, rotation=90)

ax.legend()

# Step 6: Display the chart
plt.tight_layout()
plt.show()



